{
  "cells": [
    {
      "cell_type": "markdown",
      "id": "h9oyEOlHmxilStBLOY_Lx",
      "metadata": {},
      "source": [
        "# Understanding data and uncertainty\n",
        "This week the exercises are focused on 2 central concepts of machine learning: regression and model complexity.\n",
        "\n",
        "**Learning goals**\n",
        "After this week's exercises, you should be able to:\n",
        "- Train and evaluate linear models with polynomial features.\n",
        "- Reason about the result and reflect upon over- and underfitting.\n",
        "- **Notice that this week contains a mandatory assignment!** \n",
        "\n",
        "\n"
      ]
    }
  ],
  "metadata": {
    "kernelspec": {
      "display_name": "Python",
      "language": "python3",
      "name": "python3"
    },
    "language_info": {
      "codemirror_mode": {
        "name": "ipython",
        "version": 3
      },
      "file_extension": "py",
      "mimetype": "text/x-python",
      "name": "python"
    }
  },
  "nbformat": 4,
  "nbformat_minor": 5
}
